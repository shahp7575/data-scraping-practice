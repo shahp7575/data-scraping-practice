{
 "cells": [
  {
   "cell_type": "code",
   "execution_count": 1,
   "metadata": {
    "collapsed": true
   },
   "outputs": [],
   "source": [
    "import pandas as pd\n",
    "import bs4\n",
    "import urllib\n",
    "import requests"
   ]
  },
  {
   "cell_type": "code",
   "execution_count": 60,
   "metadata": {},
   "outputs": [
    {
     "name": "stdout",
     "output_type": "stream",
     "text": [
      "Enter zip code: 08512\n"
     ]
    }
   ],
   "source": [
    "user_zip = input(\"Enter zip code: \")\n",
    "url = \"https://pets.overstock.com/pets/Cranbury-NJ/Cat,/species,/{}?distance=10\".format(user_zip)\n",
    "page = urllib.request.urlopen(url)\n",
    "soup = bs4.BeautifulSoup(page, 'lxml')\n",
    "results = soup.find('div', {'class': 'search-results'}).findAll('div', {'class': 'pet-lower'})\n",
    "#print(results)\n",
    "#[res.find('a', {'class': 'image-link'}) for res in results]"
   ]
  },
  {
   "cell_type": "code",
   "execution_count": 61,
   "metadata": {},
   "outputs": [],
   "source": [
    "pet_list = []\n",
    "pet_list.append(['Pet Name', 'Pet Type', 'Pet Age', 'Pet Sex', 'Pet Size', 'Pet Shelter', 'Pet City', 'Pet State'])"
   ]
  },
  {
   "cell_type": "code",
   "execution_count": 62,
   "metadata": {},
   "outputs": [],
   "source": [
    "for res in results:\n",
    "    pet_name = res.find('a', {'class': 'image-link'}).text.strip()\n",
    "    pet_type = res.find('div', {'class': 'pet-type'}).text.strip()\n",
    "    pet_tags = res.find('ul').findAll('li')\n",
    "    try:\n",
    "        pet_age = pet_tags[0].text.strip()\n",
    "    except IndexError:\n",
    "        pet_age = ''\n",
    "    try:\n",
    "        pet_sex = pet_tags[1].text.strip()\n",
    "    except:\n",
    "        pet_sex = ''\n",
    "    try:\n",
    "        pet_size = pet_tags[2].text.strip()\n",
    "    except IndexError:\n",
    "        pet_size = ''\n",
    "    pet_shelter = res.find('a', {'class': 'shelter-name'}).text.strip()\n",
    "    pet_loc = res.find('span', {'class': 'pet-loc'}).text.strip()\n",
    "    pet_loc = pet_loc.split(', ')\n",
    "    pet_city = pet_loc[0]\n",
    "    pet_state = pet_loc[1]\n",
    "    pet_list.append([pet_name, pet_type, pet_age, pet_sex, pet_size, pet_shelter, pet_city, pet_state])\n",
    "    #print(pet_name, pet_type, pet_age, pet_sex, pet_size, pet_shelter, pet_city, pet_state)"
   ]
  },
  {
   "cell_type": "code",
   "execution_count": 56,
   "metadata": {},
   "outputs": [],
   "source": [
    "import csv\n",
    "\n",
    "with open('pet-csv-{}.csv'.format(user_zip), 'w') as f_output:\n",
    "    csv_output = csv.writer(f_output)\n",
    "    csv_output.writerows(pet_list)"
   ]
  },
  {
   "cell_type": "code",
   "execution_count": 64,
   "metadata": {},
   "outputs": [
    {
     "data": {
      "text/html": [
       "<div>\n",
       "<style>\n",
       "    .dataframe thead tr:only-child th {\n",
       "        text-align: right;\n",
       "    }\n",
       "\n",
       "    .dataframe thead th {\n",
       "        text-align: left;\n",
       "    }\n",
       "\n",
       "    .dataframe tbody tr th {\n",
       "        vertical-align: top;\n",
       "    }\n",
       "</style>\n",
       "<table border=\"1\" class=\"dataframe\">\n",
       "  <thead>\n",
       "    <tr style=\"text-align: right;\">\n",
       "      <th></th>\n",
       "      <th>Pet Name</th>\n",
       "      <th>Pet Type</th>\n",
       "      <th>Pet Age</th>\n",
       "      <th>Pet Sex</th>\n",
       "      <th>Pet Size</th>\n",
       "      <th>Pet Shelter</th>\n",
       "      <th>Pet City</th>\n",
       "      <th>Pet State</th>\n",
       "    </tr>\n",
       "  </thead>\n",
       "  <tbody>\n",
       "    <tr>\n",
       "      <th>0</th>\n",
       "      <td>LH Lovey</td>\n",
       "      <td>Domestic Short Hair</td>\n",
       "      <td>Adult</td>\n",
       "      <td>Female</td>\n",
       "      <td>Medium</td>\n",
       "      <td>Trenton Cats Rescue</td>\n",
       "      <td>Hightstown</td>\n",
       "      <td>New Jersey</td>\n",
       "    </tr>\n",
       "    <tr>\n",
       "      <th>1</th>\n",
       "      <td>LH Valentino</td>\n",
       "      <td>Domestic Short Hair</td>\n",
       "      <td>Adult</td>\n",
       "      <td>Male</td>\n",
       "      <td>Small</td>\n",
       "      <td>Trenton Cats Rescue</td>\n",
       "      <td>Hightstown</td>\n",
       "      <td>New Jersey</td>\n",
       "    </tr>\n",
       "    <tr>\n",
       "      <th>2</th>\n",
       "      <td>Glen</td>\n",
       "      <td>Domestic Shorthair</td>\n",
       "      <td>Adult</td>\n",
       "      <td>Male</td>\n",
       "      <td>NaN</td>\n",
       "      <td>All God's Creatures Inc</td>\n",
       "      <td>Hightstown</td>\n",
       "      <td>New Jersey</td>\n",
       "    </tr>\n",
       "    <tr>\n",
       "      <th>3</th>\n",
       "      <td>Ursula</td>\n",
       "      <td>Domestic Longhair</td>\n",
       "      <td>Young</td>\n",
       "      <td>Female</td>\n",
       "      <td>NaN</td>\n",
       "      <td>All God's Creatures Inc</td>\n",
       "      <td>Hightstown</td>\n",
       "      <td>New Jersey</td>\n",
       "    </tr>\n",
       "    <tr>\n",
       "      <th>4</th>\n",
       "      <td>Trixie</td>\n",
       "      <td>Domestic Shorthair</td>\n",
       "      <td>Adult</td>\n",
       "      <td>Female</td>\n",
       "      <td>NaN</td>\n",
       "      <td>All God's Creatures Inc</td>\n",
       "      <td>Hightstown</td>\n",
       "      <td>New Jersey</td>\n",
       "    </tr>\n",
       "  </tbody>\n",
       "</table>\n",
       "</div>"
      ],
      "text/plain": [
       "       Pet Name             Pet Type Pet Age Pet Sex Pet Size  \\\n",
       "0      LH Lovey  Domestic Short Hair   Adult  Female   Medium   \n",
       "1  LH Valentino  Domestic Short Hair   Adult    Male    Small   \n",
       "2          Glen   Domestic Shorthair   Adult    Male      NaN   \n",
       "3        Ursula    Domestic Longhair   Young  Female      NaN   \n",
       "4        Trixie   Domestic Shorthair   Adult  Female      NaN   \n",
       "\n",
       "               Pet Shelter    Pet City   Pet State  \n",
       "0      Trenton Cats Rescue  Hightstown  New Jersey  \n",
       "1      Trenton Cats Rescue  Hightstown  New Jersey  \n",
       "2  All God's Creatures Inc  Hightstown  New Jersey  \n",
       "3  All God's Creatures Inc  Hightstown  New Jersey  \n",
       "4  All God's Creatures Inc  Hightstown  New Jersey  "
      ]
     },
     "execution_count": 64,
     "metadata": {},
     "output_type": "execute_result"
    }
   ],
   "source": [
    "df = pd.read_csv('pet-csv-08512.csv')\n",
    "df.head()"
   ]
  },
  {
   "cell_type": "code",
   "execution_count": 65,
   "metadata": {},
   "outputs": [
    {
     "data": {
      "text/plain": [
       "Pet Age\n",
       "Adult     14\n",
       "Baby      16\n",
       "Kitten     9\n",
       "Young     11\n",
       "Name: Pet Age, dtype: int64"
      ]
     },
     "execution_count": 65,
     "metadata": {},
     "output_type": "execute_result"
    }
   ],
   "source": [
    "sort_age = df['Pet Age'].groupby(df['Pet Age'])\n",
    "count = sort_age.count()\n",
    "count"
   ]
  },
  {
   "cell_type": "code",
   "execution_count": 66,
   "metadata": {},
   "outputs": [
    {
     "data": {
      "image/png": "[encoded data removed]",
      "text/plain": [
       "<matplotlib.figure.Figure at 0xfc18ea5208>"
      ]
     },
     "metadata": {},
     "output_type": "display_data"
    }
   ],
   "source": [
    "import matplotlib.pyplot as plt\n",
    "ax = count.plot(kind = 'bar')\n",
    "plt.show()"
   ]
  }
 ],
 "metadata": {
  "kernelspec": {
   "display_name": "Python 3",
   "language": "python",
   "name": "python3"
  },
  "language_info": {
   "codemirror_mode": {
    "name": "ipython",
    "version": 3
   },
   "file_extension": ".py",
   "mimetype": "text/x-python",
   "name": "python",
   "nbconvert_exporter": "python",
   "pygments_lexer": "ipython3",
   "version": "3.6.1"
  }
 },
 "nbformat": 4,
 "nbformat_minor": 2
}
