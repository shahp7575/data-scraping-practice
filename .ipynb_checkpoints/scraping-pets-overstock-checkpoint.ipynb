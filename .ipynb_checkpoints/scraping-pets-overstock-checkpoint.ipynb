{
 "cells": [
  {
   "cell_type": "code",
   "execution_count": 3,
   "metadata": {
    "collapsed": true
   },
   "outputs": [],
   "source": [
    "import pandas as pd\n",
    "import bs4\n",
    "import urllib\n",
    "import requests"
   ]
  },
  {
   "cell_type": "code",
   "execution_count": 282,
   "metadata": {},
   "outputs": [
    {
     "name": "stdout",
     "output_type": "stream",
     "text": [
      "LH Lovey Domestic Short Hair Adult Female Medium Trenton Cats Rescue Hightstown, New Jersey\n",
      "LH Valentino Domestic Short Hair Adult Male Small Trenton Cats Rescue Hightstown, New Jersey\n",
      "Glen Domestic Shorthair Adult Male  All God's Creatures Inc Hightstown, New Jersey\n",
      "Ursula Domestic Longhair Young Female  All God's Creatures Inc Hightstown, New Jersey\n",
      "Trixie Domestic Shorthair Adult Female  All God's Creatures Inc Hightstown, New Jersey\n",
      "Jasper Domestic Mediumhair Adult Male  All God's Creatures Inc Hightstown, New Jersey\n",
      "Ella Domestic Shorthair Kitten Female  All God's Creatures Inc Hightstown, New Jersey\n",
      "Polo URGENT Maine Coon Adult Male  Rescue Without Borders Jamesburg, New Jersey\n",
      "Mia Domestic Mediumhair Young Female  Paws on the Green (OB) Jamesburg, New Jersey\n",
      "Sharon Domestic Shorthair Young Female  Rescue Without Borders Jamesburg, New Jersey\n",
      "Boo Domestic Longhair Young Female  Rescue Without Borders Jamesburg, New Jersey\n",
      "LeiaMISSING REWARD OFFERED Calico Adult Female  Rescue Without Borders Jamesburg, New Jersey\n",
      "Cheeto Domestic Short Hair Baby Male  Trenton Cats Rescue Monmouth Junction, New Jersey\n",
      "Dorito Domestic Short Hair Baby Male  Trenton Cats Rescue Monmouth Junction, New Jersey\n",
      "Frito Domestic Short Hair Baby Male  Trenton Cats Rescue Monmouth Junction, New Jersey\n",
      "Queen Ruby Domestic Short Hair Adult Female Medium Trenton Cats Rescue Monmouth Junction, New Jersey\n",
      "Callie Jo Domestic Medium Hair Baby Female  Trenton Cats Rescue Monmouth Junction, New Jersey\n",
      "Galaxy Domestic Short Hair Adult Male Medium Trenton Cats Rescue Monmouth Junction, New Jersey\n",
      "Paisley Domestic Medium Hair Baby Female  Trenton Cats Rescue Monmouth Junction, New Jersey\n",
      "Maxine Maxwell Domestic Short Hair Baby Female  Trenton Cats Rescue Monmouth Junction, New Jersey\n",
      "Maxwell Maxine Domestic Short Hair Baby Male  Trenton Cats Rescue Monmouth Junction, New Jersey\n",
      "Denver Domestic Short Hair Adult Male Medium Trenton Cats Rescue Monmouth Junction, New Jersey\n",
      "Giselle Domestic Short Hair Young Female  Trenton Cats Rescue Monmouth Junction, New Jersey\n",
      "Shelby Domestic Short Hair Adult Female Medium Trenton Cats Rescue Monmouth Junction, New Jersey\n",
      "Gustav Domestic Short Hair Adult Male Medium Trenton Cats Rescue Monmouth Junction, New Jersey\n",
      "Chipmunk Domestic Short Hair Young Female  Trenton Cats Rescue Monmouth Junction, New Jersey\n",
      "Jane Marple Domestic Short Hair Baby Female  Trenton Cats Rescue Monmouth Junction, New Jersey\n",
      "Phryne Fisher Domestic Short Hair Baby Female  Trenton Cats Rescue Monmouth Junction, New Jersey\n",
      "Harding Domestic Short Hair Adult Male Medium Trenton Cats Rescue Monmouth Junction, New Jersey\n",
      "Plaid Domestic Short Hair Baby Male  Trenton Cats Rescue Monmouth Junction, New Jersey\n",
      "Sapphire Domestic Short Hair Baby Female  Trenton Cats Rescue Monmouth Junction, New Jersey\n",
      "Pepper Domestic Short Hair Baby Male  Trenton Cats Rescue Monmouth Junction, New Jersey\n",
      "Nehi Domestic Short Hair Baby Female  Trenton Cats Rescue Monmouth Junction, New Jersey\n",
      "Chai Domestic Short Hair Baby Male  Trenton Cats Rescue Monmouth Junction, New Jersey\n",
      "Bergamot Domestic Short Hair Baby Male  Trenton Cats Rescue Monmouth Junction, New Jersey\n",
      "Bandit Domestic Shorthair Kitten Female  EASEL Animal Rescue League Trenton, New Jersey\n",
      "Pablo Domestic Shorthair Adult Male  EASEL Animal Rescue League Trenton, New Jersey\n",
      "Buffley Domestic Shorthair Kitten Male  EASEL Animal Rescue League Trenton, New Jersey\n",
      "McAdoo 2 Domestic Shorthair Kitten Female  EASEL Animal Rescue League Trenton, New Jersey\n",
      "Ginger Zula Domestic Shorthair Kitten Female  EASEL Animal Rescue League Trenton, New Jersey\n",
      "Coriander Zeno Domestic Shorthair Kitten Male  EASEL Animal Rescue League Trenton, New Jersey\n",
      "Clementine Domestic Shorthair Young Female  EASEL Animal Rescue League Trenton, New Jersey\n",
      "Vogel Domestic Shorthair Kitten Male  EASEL Animal Rescue League Trenton, New Jersey\n",
      "South Clinton Kittens 5 Domestic Shorthair Young Male  EASEL Animal Rescue League Trenton, New Jersey\n",
      "Larry Domestic Shorthair Adult Male  EASEL Animal Rescue League Trenton, New Jersey\n",
      "Fina South Clinton Mom Domestic Shorthair Young Female  EASEL Animal Rescue League Trenton, New Jersey\n",
      "Soul Domestic Shorthair Kitten Female  EASEL Animal Rescue League Trenton, New Jersey\n",
      "Ramonda NBH Mom Domestic Shorthair Young Female  EASEL Animal Rescue League Trenton, New Jersey\n",
      "Kage Domestic Shorthair Young Female  EASEL Animal Rescue League Trenton, New Jersey\n",
      "Annie Domestic Shorthair Kitten Female  EASEL Animal Rescue League Trenton, New Jersey\n"
     ]
    }
   ],
   "source": [
    "url = \"https://pets.overstock.com/pets/Cranbury-NJ/Cat,/species,/08512?distance=10\"\n",
    "page = urllib.request.urlopen(url)\n",
    "soup = bs4.BeautifulSoup(page, 'lxml')\n",
    "results = soup.find('div', {'class': 'search-results'}).findAll('div', {'class': 'pet-lower'})\n",
    "#print(results)\n",
    "#[res.find('a', {'class': 'image-link'}) for res in results]"
   ]
  },
  {
   "cell_type": "code",
   "execution_count": 309,
   "metadata": {},
   "outputs": [
    {
     "name": "stdout",
     "output_type": "stream",
     "text": [
      "LH Lovey Domestic Short Hair Adult Female Medium Trenton Cats Rescue Hightstown New Jersey\n",
      "LH Valentino Domestic Short Hair Adult Male Small Trenton Cats Rescue Hightstown New Jersey\n",
      "Glen Domestic Shorthair Adult Male  All God's Creatures Inc Hightstown New Jersey\n",
      "Ursula Domestic Longhair Young Female  All God's Creatures Inc Hightstown New Jersey\n",
      "Trixie Domestic Shorthair Adult Female  All God's Creatures Inc Hightstown New Jersey\n",
      "Jasper Domestic Mediumhair Adult Male  All God's Creatures Inc Hightstown New Jersey\n",
      "Ella Domestic Shorthair Kitten Female  All God's Creatures Inc Hightstown New Jersey\n",
      "Polo URGENT Maine Coon Adult Male  Rescue Without Borders Jamesburg New Jersey\n",
      "Mia Domestic Mediumhair Young Female  Paws on the Green (OB) Jamesburg New Jersey\n",
      "Sharon Domestic Shorthair Young Female  Rescue Without Borders Jamesburg New Jersey\n",
      "Boo Domestic Longhair Young Female  Rescue Without Borders Jamesburg New Jersey\n",
      "LeiaMISSING REWARD OFFERED Calico Adult Female  Rescue Without Borders Jamesburg New Jersey\n",
      "Cheeto Domestic Short Hair Baby Male  Trenton Cats Rescue Monmouth Junction New Jersey\n",
      "Dorito Domestic Short Hair Baby Male  Trenton Cats Rescue Monmouth Junction New Jersey\n",
      "Frito Domestic Short Hair Baby Male  Trenton Cats Rescue Monmouth Junction New Jersey\n",
      "Queen Ruby Domestic Short Hair Adult Female Medium Trenton Cats Rescue Monmouth Junction New Jersey\n",
      "Callie Jo Domestic Medium Hair Baby Female  Trenton Cats Rescue Monmouth Junction New Jersey\n",
      "Galaxy Domestic Short Hair Adult Male Medium Trenton Cats Rescue Monmouth Junction New Jersey\n",
      "Paisley Domestic Medium Hair Baby Female  Trenton Cats Rescue Monmouth Junction New Jersey\n",
      "Maxine Maxwell Domestic Short Hair Baby Female  Trenton Cats Rescue Monmouth Junction New Jersey\n",
      "Maxwell Maxine Domestic Short Hair Baby Male  Trenton Cats Rescue Monmouth Junction New Jersey\n",
      "Denver Domestic Short Hair Adult Male Medium Trenton Cats Rescue Monmouth Junction New Jersey\n",
      "Giselle Domestic Short Hair Young Female  Trenton Cats Rescue Monmouth Junction New Jersey\n",
      "Shelby Domestic Short Hair Adult Female Medium Trenton Cats Rescue Monmouth Junction New Jersey\n",
      "Gustav Domestic Short Hair Adult Male Medium Trenton Cats Rescue Monmouth Junction New Jersey\n",
      "Chipmunk Domestic Short Hair Young Female  Trenton Cats Rescue Monmouth Junction New Jersey\n",
      "Jane Marple Domestic Short Hair Baby Female  Trenton Cats Rescue Monmouth Junction New Jersey\n",
      "Phryne Fisher Domestic Short Hair Baby Female  Trenton Cats Rescue Monmouth Junction New Jersey\n",
      "Harding Domestic Short Hair Adult Male Medium Trenton Cats Rescue Monmouth Junction New Jersey\n",
      "Plaid Domestic Short Hair Baby Male  Trenton Cats Rescue Monmouth Junction New Jersey\n",
      "Sapphire Domestic Short Hair Baby Female  Trenton Cats Rescue Monmouth Junction New Jersey\n",
      "Pepper Domestic Short Hair Baby Male  Trenton Cats Rescue Monmouth Junction New Jersey\n",
      "Nehi Domestic Short Hair Baby Female  Trenton Cats Rescue Monmouth Junction New Jersey\n",
      "Chai Domestic Short Hair Baby Male  Trenton Cats Rescue Monmouth Junction New Jersey\n",
      "Bergamot Domestic Short Hair Baby Male  Trenton Cats Rescue Monmouth Junction New Jersey\n",
      "Bandit Domestic Shorthair Kitten Female  EASEL Animal Rescue League Trenton New Jersey\n",
      "Pablo Domestic Shorthair Adult Male  EASEL Animal Rescue League Trenton New Jersey\n",
      "Buffley Domestic Shorthair Kitten Male  EASEL Animal Rescue League Trenton New Jersey\n",
      "McAdoo 2 Domestic Shorthair Kitten Female  EASEL Animal Rescue League Trenton New Jersey\n",
      "Ginger Zula Domestic Shorthair Kitten Female  EASEL Animal Rescue League Trenton New Jersey\n",
      "Coriander Zeno Domestic Shorthair Kitten Male  EASEL Animal Rescue League Trenton New Jersey\n",
      "Clementine Domestic Shorthair Young Female  EASEL Animal Rescue League Trenton New Jersey\n",
      "Vogel Domestic Shorthair Kitten Male  EASEL Animal Rescue League Trenton New Jersey\n",
      "South Clinton Kittens 5 Domestic Shorthair Young Male  EASEL Animal Rescue League Trenton New Jersey\n",
      "Larry Domestic Shorthair Adult Male  EASEL Animal Rescue League Trenton New Jersey\n",
      "Fina South Clinton Mom Domestic Shorthair Young Female  EASEL Animal Rescue League Trenton New Jersey\n",
      "Soul Domestic Shorthair Kitten Female  EASEL Animal Rescue League Trenton New Jersey\n",
      "Ramonda NBH Mom Domestic Shorthair Young Female  EASEL Animal Rescue League Trenton New Jersey\n",
      "Kage Domestic Shorthair Young Female  EASEL Animal Rescue League Trenton New Jersey\n",
      "Annie Domestic Shorthair Kitten Female  EASEL Animal Rescue League Trenton New Jersey\n"
     ]
    }
   ],
   "source": [
    "for res in results:\n",
    "    pet_name = res.find('a', {'class': 'image-link'}).text.strip()\n",
    "    pet_type = res.find('div', {'class': 'pet-type'}).text.strip()\n",
    "    pet_tags = res.find('ul').findAll('li')\n",
    "    pet_age = pet_tags[0].text.strip()\n",
    "    pet_sex = pet_tags[1].text.strip()\n",
    "    try:\n",
    "        pet_size = pet_tags[2].text.strip()\n",
    "    except IndexError:\n",
    "        pet_size = ''\n",
    "    pet_shelter = res.find('a', {'class': 'shelter-name'}).text.strip()\n",
    "    pet_loc = res.find('span', {'class': 'pet-loc'}).text.strip()\n",
    "    pet_loc = pet_loc.split(', ')\n",
    "    pet_city = pet_loc[0]\n",
    "    pet_state = pet_loc[1]\n",
    "    print(pet_name, pet_type, pet_age, pet_sex, pet_size, pet_shelter, pet_city, pet_state)"
   ]
  },
  {
   "cell_type": "code",
   "execution_count": null,
   "metadata": {
    "collapsed": true
   },
   "outputs": [],
   "source": []
  }
 ],
 "metadata": {
  "kernelspec": {
   "display_name": "Python 3",
   "language": "python",
   "name": "python3"
  },
  "language_info": {
   "codemirror_mode": {
    "name": "ipython",
    "version": 3
   },
   "file_extension": ".py",
   "mimetype": "text/x-python",
   "name": "python",
   "nbconvert_exporter": "python",
   "pygments_lexer": "ipython3",
   "version": "3.6.1"
  }
 },
 "nbformat": 4,
 "nbformat_minor": 2
}
