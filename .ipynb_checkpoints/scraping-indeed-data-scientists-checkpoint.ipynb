{
 "cells": [
  {
   "cell_type": "code",
   "execution_count": 1,
   "metadata": {
    "collapsed": true
   },
   "outputs": [],
   "source": [
    "import numpy as np\n",
    "import pandas as pd\n",
    "import matplotlib.pyplot as plt\n",
    "import urllib\n",
    "import bs4"
   ]
  },
  {
   "cell_type": "code",
   "execution_count": 64,
   "metadata": {
    "collapsed": true
   },
   "outputs": [],
   "source": [
    "url = \"https://www.indeed.com/jobs?q=data+scientist&l=\"\n",
    "source = urllib.request.urlopen(url)\n",
    "soup = bs4.BeautifulSoup(source, 'lxml')"
   ]
  },
  {
   "cell_type": "code",
   "execution_count": 65,
   "metadata": {},
   "outputs": [
    {
     "name": "stdout",
     "output_type": "stream",
     "text": [
      "Total Jobs: 31,693\n",
      "[3, 1, 6, 9, 3]\n",
      "31693\n"
     ]
    }
   ],
   "source": [
    "# Finding the total number of jobs. \n",
    "total_jobs_string = soup.find('div', attrs={'id': 'searchCount'}).text.split()[-2]\n",
    "print(\"Total Jobs: %s\" % (total_jobs_string))\n",
    "\n",
    "# fetching digits and getting rid of ','\n",
    "total_jobs_digits = [int(d) for d in total_jobs_string if d.isdigit()]\n",
    "print(total_jobs_digits)\n",
    "\n",
    "job_count = np.sum([digit*(10**exponent) for digit, exponent in zip(total_jobs_digits[::-1], range(len(total_jobs_digits)))])\n",
    "print(job_count)"
   ]
  },
  {
   "cell_type": "code",
   "execution_count": 135,
   "metadata": {},
   "outputs": [
    {
     "name": "stdout",
     "output_type": "stream",
     "text": [
      "Total number of pages: 3170\n",
      "['http://www.indeed.com/rc/clk?jk=582c3b468eb88be4', 'http://www.indeed.com/rc/clk?jk=437cdf56df3773d1', 'http://www.indeed.com/rc/clk?jk=949bcc7b5b2c807c', 'http://www.indeed.com/rc/clk?jk=8e08819b34b75ecf', 'http://www.indeed.com/rc/clk?jk=b40932caa9504d5c', 'http://www.indeed.com/rc/clk?jk=df0b571b477b827c', 'http://www.indeed.com/rc/clk?jk=718e846d2a2ecd88', 'http://www.indeed.com/rc/clk?jk=39bfd768b89a6551', 'http://www.indeed.com/rc/clk?jk=693dfc80eb8f4990', 'http://www.indeed.com/rc/clk?jk=a5b94a9ccc7dc9c4', 'http://www.indeed.com/rc/clk?jk=1d5e643355ae3b2e', 'http://www.indeed.com/rc/clk?jk=9fb0026a72df885b', 'http://www.indeed.com/rc/clk?jk=eb1e40eb1874434e', 'http://www.indeed.com/rc/clk?jk=0d9e62d1c44673a4', 'http://www.indeed.com/rc/clk?jk=f167187a2af6ead2', 'http://www.indeed.com/rc/clk?jk=fcd42c873978bd49', 'http://www.indeed.com/rc/clk?jk=df0b571b477b827c', 'http://www.indeed.com/rc/clk?jk=11991f04e76b4ba0', 'http://www.indeed.com/rc/clk?jk=761eb2ae63b51480', 'http://www.indeed.com/rc/clk?jk=943013e7d1338251', 'http://www.indeed.com/rc/clk?jk=88fcdb48a505068b', 'http://www.indeed.com/rc/clk?jk=f0a6fcaff02f1777', 'http://www.indeed.com/rc/clk?jk=9fb0026a72df885b', 'http://www.indeed.com/rc/clk?jk=0ab6d0b7e3010666', 'http://www.indeed.com/rc/clk?jk=b6cf4b4f4ae8e076', 'http://www.indeed.com/rc/clk?jk=3f1d872cbc2ffbf0', 'http://www.indeed.com/rc/clk?jk=87ae504cf030aa58', 'http://www.indeed.com/rc/clk?jk=03d6b6a02bb5a8e8', 'http://www.indeed.com/rc/clk?jk=728ad9a1e06f7fbe', 'http://www.indeed.com/rc/clk?jk=31a1a5e5ac57629c', 'http://www.indeed.com/rc/clk?jk=892632a452507bd1', 'http://www.indeed.com/rc/clk?jk=97f72c5f4f000d14', 'http://www.indeed.com/rc/clk?jk=0fbfb565ed1e3dd4', 'http://www.indeed.com/rc/clk?jk=fd6219ac4a3a9dab', 'http://www.indeed.com/rc/clk?jk=71de6b416a7f820e', 'http://www.indeed.com/rc/clk?jk=949bcc7b5b2c807c', 'http://www.indeed.com/rc/clk?jk=0046d3b5e9fa7c67', 'http://www.indeed.com/rc/clk?jk=e0d03f0f21b2965f', 'http://www.indeed.com/rc/clk?jk=ef010ffae57e83ea', 'http://www.indeed.com/rc/clk?jk=881958698dbf7f9e', 'http://www.indeed.com/rc/clk?jk=dea1618fbaf32c2b', 'http://www.indeed.com/rc/clk?jk=ba6fc6da46861850', 'http://www.indeed.com/rc/clk?jk=31ae275f05456ffc', 'http://www.indeed.com/rc/clk?jk=171566291d439083', 'http://www.indeed.com/rc/clk?jk=4769b53c33286f2e', 'http://www.indeed.com/rc/clk?jk=7d2a4c88539fb841', 'http://www.indeed.com/rc/clk?jk=64f98c2679624ce2', 'http://www.indeed.com/rc/clk?jk=fb86202738fc1da8', 'http://www.indeed.com/rc/clk?jk=07a4f428f95e5347', 'http://www.indeed.com/rc/clk?jk=54daf27039e37d11', 'http://www.indeed.com/rc/clk?jk=d85de6a45ca9f5b7', 'http://www.indeed.com/rc/clk?jk=118e14bf0f11b8ee', 'http://www.indeed.com/rc/clk?jk=d1f8109a204f0bca', 'http://www.indeed.com/rc/clk?jk=785e1bd7dcacedbe', 'http://www.indeed.com/rc/clk?jk=f37d833a3adfafcf', 'http://www.indeed.com/rc/clk?jk=31c1224da3e8fd3e', 'http://www.indeed.com/rc/clk?jk=46fef72a8a5ad160', 'http://www.indeed.com/rc/clk?jk=b83df077e680d2e9', 'http://www.indeed.com/rc/clk?jk=97720c9cfebdc64e', 'http://www.indeed.com/rc/clk?jk=8bdb68e85a95d920', 'http://www.indeed.com/rc/clk?jk=a67eb81c67e7c633', 'http://www.indeed.com/rc/clk?jk=624d706e75123136', 'http://www.indeed.com/rc/clk?jk=cdf7452c44202fd1', 'http://www.indeed.com/rc/clk?jk=5e5ee14be60530b7', 'http://www.indeed.com/rc/clk?jk=5cc8b2c94b8db815']\n"
     ]
    }
   ],
   "source": [
    "import time\n",
    "# Counting number of pages\n",
    "num_pages = int(np.ceil(job_count/10))\n",
    "print(\"Total number of pages:\", num_pages)\n",
    "\n",
    "job_links = []\n",
    "\n",
    "for i in range(5): # looping only through 5 pages for now\n",
    "    \n",
    "    url = \"https://www.indeed.com/jobs?q=data+scientist&start={}\".format(i*10)\n",
    "    page = urllib.request.urlopen(url)\n",
    "    bs_tree = bs4.BeautifulSoup(page, 'lxml')\n",
    "    job_link_area = bs_tree.find('td', attrs={'id': 'resultsCol'})\n",
    "    job_postings = job_link_area.findAll('div')\n",
    "    job_postings = [jp for jp in job_postings if not jp.get('class') is None and ''.join(jp.get('class')) == 'rowresult']\n",
    "    \n",
    "    job_hrefs = [jp.get('data-jk') for jp in job_postings]\n",
    "    #job_hrefs = [jp.find('a').get('href') for jp in job_postings if jp.find('a').get('href').startswith('/rc/clk')]\n",
    "    \n",
    "    for i in job_hrefs:\n",
    "        job_links.append('http://www.indeed.com/rc/clk?jk=' + i)\n",
    "        \n",
    "    time.sleep(1)\n",
    "\n",
    "print(job_links)"
   ]
  },
  {
   "cell_type": "code",
   "execution_count": 100,
   "metadata": {},
   "outputs": [],
   "source": [
    "import pickle"
   ]
  },
  {
   "cell_type": "code",
   "execution_count": 136,
   "metadata": {},
   "outputs": [
    {
     "name": "stdout",
     "output_type": "stream",
     "text": [
      "['http://www.indeed.com/rc/clk?jk=582c3b468eb88be4', 'http://www.indeed.com/rc/clk?jk=437cdf56df3773d1', 'http://www.indeed.com/rc/clk?jk=949bcc7b5b2c807c', 'http://www.indeed.com/rc/clk?jk=8e08819b34b75ecf', 'http://www.indeed.com/rc/clk?jk=b40932caa9504d5c', 'http://www.indeed.com/rc/clk?jk=df0b571b477b827c', 'http://www.indeed.com/rc/clk?jk=718e846d2a2ecd88', 'http://www.indeed.com/rc/clk?jk=39bfd768b89a6551', 'http://www.indeed.com/rc/clk?jk=693dfc80eb8f4990', 'http://www.indeed.com/rc/clk?jk=a5b94a9ccc7dc9c4', 'http://www.indeed.com/rc/clk?jk=1d5e643355ae3b2e', 'http://www.indeed.com/rc/clk?jk=9fb0026a72df885b', 'http://www.indeed.com/rc/clk?jk=eb1e40eb1874434e', 'http://www.indeed.com/rc/clk?jk=0d9e62d1c44673a4', 'http://www.indeed.com/rc/clk?jk=f167187a2af6ead2', 'http://www.indeed.com/rc/clk?jk=fcd42c873978bd49', 'http://www.indeed.com/rc/clk?jk=df0b571b477b827c', 'http://www.indeed.com/rc/clk?jk=11991f04e76b4ba0', 'http://www.indeed.com/rc/clk?jk=761eb2ae63b51480', 'http://www.indeed.com/rc/clk?jk=943013e7d1338251', 'http://www.indeed.com/rc/clk?jk=88fcdb48a505068b', 'http://www.indeed.com/rc/clk?jk=f0a6fcaff02f1777', 'http://www.indeed.com/rc/clk?jk=9fb0026a72df885b', 'http://www.indeed.com/rc/clk?jk=0ab6d0b7e3010666', 'http://www.indeed.com/rc/clk?jk=b6cf4b4f4ae8e076', 'http://www.indeed.com/rc/clk?jk=3f1d872cbc2ffbf0', 'http://www.indeed.com/rc/clk?jk=87ae504cf030aa58', 'http://www.indeed.com/rc/clk?jk=03d6b6a02bb5a8e8', 'http://www.indeed.com/rc/clk?jk=728ad9a1e06f7fbe', 'http://www.indeed.com/rc/clk?jk=31a1a5e5ac57629c', 'http://www.indeed.com/rc/clk?jk=892632a452507bd1', 'http://www.indeed.com/rc/clk?jk=97f72c5f4f000d14', 'http://www.indeed.com/rc/clk?jk=0fbfb565ed1e3dd4', 'http://www.indeed.com/rc/clk?jk=fd6219ac4a3a9dab', 'http://www.indeed.com/rc/clk?jk=71de6b416a7f820e', 'http://www.indeed.com/rc/clk?jk=949bcc7b5b2c807c', 'http://www.indeed.com/rc/clk?jk=0046d3b5e9fa7c67', 'http://www.indeed.com/rc/clk?jk=e0d03f0f21b2965f', 'http://www.indeed.com/rc/clk?jk=ef010ffae57e83ea', 'http://www.indeed.com/rc/clk?jk=881958698dbf7f9e', 'http://www.indeed.com/rc/clk?jk=dea1618fbaf32c2b', 'http://www.indeed.com/rc/clk?jk=ba6fc6da46861850', 'http://www.indeed.com/rc/clk?jk=31ae275f05456ffc', 'http://www.indeed.com/rc/clk?jk=171566291d439083', 'http://www.indeed.com/rc/clk?jk=4769b53c33286f2e', 'http://www.indeed.com/rc/clk?jk=7d2a4c88539fb841', 'http://www.indeed.com/rc/clk?jk=64f98c2679624ce2', 'http://www.indeed.com/rc/clk?jk=fb86202738fc1da8', 'http://www.indeed.com/rc/clk?jk=07a4f428f95e5347', 'http://www.indeed.com/rc/clk?jk=54daf27039e37d11', 'http://www.indeed.com/rc/clk?jk=d85de6a45ca9f5b7', 'http://www.indeed.com/rc/clk?jk=118e14bf0f11b8ee', 'http://www.indeed.com/rc/clk?jk=d1f8109a204f0bca', 'http://www.indeed.com/rc/clk?jk=785e1bd7dcacedbe', 'http://www.indeed.com/rc/clk?jk=f37d833a3adfafcf', 'http://www.indeed.com/rc/clk?jk=31c1224da3e8fd3e', 'http://www.indeed.com/rc/clk?jk=46fef72a8a5ad160', 'http://www.indeed.com/rc/clk?jk=b83df077e680d2e9', 'http://www.indeed.com/rc/clk?jk=97720c9cfebdc64e', 'http://www.indeed.com/rc/clk?jk=8bdb68e85a95d920', 'http://www.indeed.com/rc/clk?jk=a67eb81c67e7c633', 'http://www.indeed.com/rc/clk?jk=624d706e75123136', 'http://www.indeed.com/rc/clk?jk=cdf7452c44202fd1', 'http://www.indeed.com/rc/clk?jk=5e5ee14be60530b7', 'http://www.indeed.com/rc/clk?jk=5cc8b2c94b8db815']\n"
     ]
    }
   ],
   "source": [
    "# saving links\n",
    "with open('scraped_links.pkl', 'wb') as f:\n",
    "    pickle.dump(job_links, f)\n",
    "    \n",
    "# Read pickle file\n",
    "with open('scraped_links.pkl', 'rb') as f:\n",
    "    job_links = pickle.load(f)\n",
    "\n",
    "print(job_links)"
   ]
  },
  {
   "cell_type": "code",
   "execution_count": 137,
   "metadata": {
    "collapsed": true
   },
   "outputs": [],
   "source": [
    "skillset = {'mapreduce': 0, 'spark': 0}\n",
    "\n",
    "# writing initialization into a file\n",
    "with open('scraped_links_restart.pkl', 'wb') as f:\n",
    "    pickle.dump((skillset, 0), f)"
   ]
  },
  {
   "cell_type": "code",
   "execution_count": 138,
   "metadata": {},
   "outputs": [
    {
     "name": "stdout",
     "output_type": "stream",
     "text": [
      "How many websites to go:  65\n"
     ]
    }
   ],
   "source": [
    "with open('scraped_links_restart.pkl', 'rb') as f:\n",
    "    skill_set, index = pickle.load(f)\n",
    "    print(\"How many websites to go: \", len(job_links) - index)"
   ]
  },
  {
   "cell_type": "code",
   "execution_count": 139,
   "metadata": {},
   "outputs": [
    {
     "name": "stdout",
     "output_type": "stream",
     "text": [
      "HTTP Error\n",
      "HTTP Error\n",
      "55\n",
      "{'mapreduce': 1, 'spark': 1}\n",
      "HTTP Error\n",
      "HTTP Error\n",
      "HTTP Error\n",
      "HTTP Error\n",
      "45\n",
      "{'mapreduce': 1, 'spark': 2}\n",
      "HTTP Error\n",
      "40\n",
      "{'mapreduce': 1, 'spark': 3}\n",
      "HTTP Error\n",
      "HTTP Error\n",
      "35\n",
      "{'mapreduce': 1, 'spark': 4}\n",
      "HTTP Error\n",
      "HTTP Error\n",
      "30\n",
      "{'mapreduce': 1, 'spark': 5}\n",
      "HTTP Error\n",
      "25\n",
      "{'mapreduce': 1, 'spark': 5}\n",
      "HTTP Error\n",
      "HTTP Error\n",
      "20\n",
      "{'mapreduce': 1, 'spark': 5}\n",
      "HTTP Error\n",
      "15\n",
      "{'mapreduce': 1, 'spark': 5}\n",
      "HTTP Error\n",
      "HTTP Error\n",
      "5\n",
      "{'mapreduce': 1, 'spark': 7}\n",
      "0\n",
      "{'mapreduce': 1, 'spark': 8}\n"
     ]
    }
   ],
   "source": [
    "import re\n",
    "\n",
    "counter = 0\n",
    "\n",
    "for link in job_links[index:]:\n",
    "    counter += 1\n",
    "    \n",
    "    try:\n",
    "        job_page = urllib.request.urlopen(link).read().decode('utf-8')\n",
    "    except urllib.error.HTTPError:\n",
    "        print(\"HTTP Error\")\n",
    "        continue\n",
    "    except urllib.error.URLError:\n",
    "        print(\"URL Error\")\n",
    "        continue\n",
    "    \n",
    "    job_text = re.sub('[^a-z.+3]', ' ', job_page.lower()) # .+3 matches a single character in the list\n",
    "    \n",
    "    for key in skill_set.keys():\n",
    "        if key in job_text:\n",
    "            skill_set[key] += 1\n",
    "            \n",
    "    if counter % 5 == 0:\n",
    "        print(len(job_links) - counter - index)\n",
    "        print(skill_set)\n",
    "        with open('scraped_links_restart.pkl', 'wb') as f:\n",
    "            pickle.dump((skill_set, index + counter), f)"
   ]
  },
  {
   "cell_type": "code",
   "execution_count": 140,
   "metadata": {},
   "outputs": [
    {
     "name": "stdout",
     "output_type": "stream",
     "text": [
      "{'mapreduce': 1, 'spark': 8}\n"
     ]
    }
   ],
   "source": [
    "print(skill_set)"
   ]
  },
  {
   "cell_type": "code",
   "execution_count": 145,
   "metadata": {},
   "outputs": [
    {
     "data": {
      "image/png": "[encoded data removed]",
      "text/plain": [
       "<matplotlib.figure.Figure at 0x3a77a36ef0>"
      ]
     },
     "metadata": {},
     "output_type": "display_data"
    }
   ],
   "source": [
    "pseries = pd.Series(skill_set)\n",
    "pseries.sort_index(ascending=False)\n",
    "\n",
    "pseries.plot(kind= 'bar')\n",
    "plt.title('Data Science Skills')\n",
    "plt.xlabel('Skills')\n",
    "plt.ylabel('Count')\n",
    "plt.show()"
   ]
  },
  {
   "cell_type": "code",
   "execution_count": null,
   "metadata": {
    "collapsed": true
   },
   "outputs": [],
   "source": []
  }
 ],
 "metadata": {
  "kernelspec": {
   "display_name": "Python 3",
   "language": "python",
   "name": "python3"
  },
  "language_info": {
   "codemirror_mode": {
    "name": "ipython",
    "version": 3
   },
   "file_extension": ".py",
   "mimetype": "text/x-python",
   "name": "python",
   "nbconvert_exporter": "python",
   "pygments_lexer": "ipython3",
   "version": "3.6.1"
  }
 },
 "nbformat": 4,
 "nbformat_minor": 2
}
